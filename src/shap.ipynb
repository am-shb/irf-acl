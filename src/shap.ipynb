{
 "cells": [
  {
   "cell_type": "code",
   "execution_count": 1,
   "id": "09a71af2-7cc4-49cd-92c4-d214ca0d386b",
   "metadata": {},
   "outputs": [
    {
     "name": "stderr",
     "output_type": "stream",
     "text": [
      "[rank: 0] Global seed set to 42\n"
     ]
    }
   ],
   "source": [
    "import torch\n",
    "import pytorch_lightning as pl\n",
    "import pandas as pd\n",
    "import numpy as np\n",
    "from transformers import AutoTokenizer\n",
    "import shap\n",
    "from tqdm import tqdm\n",
    "from rouge import Rouge\n",
    "\n",
    "from transformers_trainer import TransformersTrainer\n",
    "\n",
    "pl.seed_everything(42)\n",
    "rouge = Rouge()"
   ]
  },
  {
   "cell_type": "code",
   "execution_count": 2,
   "id": "87af83ad-8ebb-494c-872b-5cfa896df80b",
   "metadata": {},
   "outputs": [
    {
     "name": "stderr",
     "output_type": "stream",
     "text": [
      "Some weights of the model checkpoint at mental/mental-bert-base-uncased were not used when initializing BertModel: ['cls.predictions.decoder.bias', 'cls.predictions.bias', 'cls.predictions.transform.LayerNorm.bias', 'cls.predictions.decoder.weight', 'cls.predictions.transform.dense.bias', 'cls.predictions.transform.LayerNorm.weight', 'cls.predictions.transform.dense.weight']\n",
      "- This IS expected if you are initializing BertModel from the checkpoint of a model trained on another task or with another architecture (e.g. initializing a BertForSequenceClassification model from a BertForPreTraining model).\n",
      "- This IS NOT expected if you are initializing BertModel from the checkpoint of a model that you expect to be exactly identical (initializing a BertForSequenceClassification model from a BertForSequenceClassification model).\n",
      "Some weights of BertModel were not initialized from the model checkpoint at mental/mental-bert-base-uncased and are newly initialized: ['bert.pooler.dense.bias', 'bert.pooler.dense.weight']\n",
      "You should probably TRAIN this model on a down-stream task to be able to use it for predictions and inference.\n"
     ]
    },
    {
     "name": "stdout",
     "output_type": "stream",
     "text": [
      "Loaded Model\n"
     ]
    }
   ],
   "source": [
    "model_name = 'mental/mental-bert-base-uncased'\n",
    "model = TransformersTrainer.load_from_checkpoint(\n",
    "    f'../classification_models/{model_name}.ckpt',\n",
    "    model_name=model_name\n",
    ")\n",
    "tokenizer = AutoTokenizer.from_pretrained(model_name)\n",
    "model.to('cuda:0')\n",
    "model.eval()\n",
    "print('Loaded Model')"
   ]
  },
  {
   "cell_type": "code",
   "execution_count": 3,
   "id": "0259d03f-eed9-4ab1-b92d-c7f259d5f2ec",
   "metadata": {},
   "outputs": [],
   "source": [
    "def shap_pred(text, output_logit):\n",
    "    inp = tokenizer(\n",
    "        list(text),\n",
    "        max_length=256,\n",
    "        padding=\"max_length\",\n",
    "        return_tensors=\"pt\",\n",
    "        truncation=True,\n",
    "    )\n",
    "    \n",
    "    inp = {k: v.to('cuda:0') for k,v in inp.items()}\n",
    "\n",
    "    with torch.no_grad():\n",
    "        y_hat = model(inp)\n",
    "\n",
    "    return y_hat[output_logit].detach().cpu().numpy()"
   ]
  },
  {
   "cell_type": "code",
   "execution_count": 8,
   "id": "8ccead2b-2d66-45d1-9f42-5c5b86e66b11",
   "metadata": {},
   "outputs": [],
   "source": [
    "test_df = pd.read_csv('../data/test_data_pre.csv')\n",
    "belong_df = test_df[test_df['belong'] == 1].reset_index().drop(columns=['index']).dropna(subset=['belong_exp'])\n",
    "burden_df = test_df[test_df['burden'] == 1].reset_index().drop(columns=['index']).dropna(subset=['burden_exp'])"
   ]
  },
  {
   "cell_type": "code",
   "execution_count": null,
   "id": "53b8141b-3319-4487-9c01-7ba2080140e1",
   "metadata": {},
   "outputs": [],
   "source": [
    "belong_explainer = shap.Explainer(lambda x: shap_pred(x, 0), tokenizer)\n",
    "exp = belong_explainer(belong_df['text'].to_list())\n",
    "for i in range(len(belong_df)):\n",
    "    belong_df.loc[i, 'top_keywords'] = ' '.join(exp.data[i][np.argsort(-exp.values[i])][:10])\n",
    "    \n",
    "    r = rouge.get_scores(belong_df['top_keywords'][i], belong_df['belong_exp'][i])[0]\n",
    "    d = {f'{k}_{kk}': vv for k, v in r.items() for kk, vv in v.items()}\n",
    "    for k, v in d.items():\n",
    "        belong_df.loc[i, k] = v\n",
    "    \n",
    "belong_df.to_csv('../results/belong_shap.csv', index=False)"
   ]
  },
  {
   "cell_type": "code",
   "execution_count": null,
   "id": "bdfd2afc-e552-41b0-af60-c7848f17af4d",
   "metadata": {},
   "outputs": [],
   "source": [
    "burden_explainer = shap.Explainer(lambda x: shap_pred(x, 1), tokenizer)\n",
    "exp = burden_explainer(burden_df['text'].to_list())\n",
    "for i in range(len(burden_df)):\n",
    "    burden_df.loc[i, 'top_keywords'] = ' '.join(exp.data[i][np.argsort(-exp.values[i])][:10])\n",
    "    \n",
    "    r = rouge.get_scores(burden_df['top_keywords'][i], burden_df['burden_exp'][i])[0]\n",
    "    d = {f'{k}_{kk}': vv for k, v in r.items() for kk, vv in v.items()}\n",
    "    for k, v in d.items():\n",
    "        burden_df.loc[i, k] = v\n",
    "    \n",
    "burden_df.to_csv('../results/burden_shap.csv', index=False)"
   ]
  }
 ],
 "metadata": {
  "kernelspec": {
   "display_name": "Python 3 (ipykernel)",
   "language": "python",
   "name": "python3"
  },
  "language_info": {
   "codemirror_mode": {
    "name": "ipython",
    "version": 3
   },
   "file_extension": ".py",
   "mimetype": "text/x-python",
   "name": "python",
   "nbconvert_exporter": "python",
   "pygments_lexer": "ipython3",
   "version": "3.8.10"
  }
 },
 "nbformat": 4,
 "nbformat_minor": 5
}
